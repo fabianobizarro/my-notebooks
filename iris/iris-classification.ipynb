{
 "cells": [
  {
   "cell_type": "markdown",
   "metadata": {},
   "source": [
    "# Iris classification"
   ]
  },
  {
   "cell_type": "code",
   "execution_count": 2,
   "metadata": {
    "collapsed": true
   },
   "outputs": [],
   "source": [
    "import numpy as np\n",
    "import pandas as pd"
   ]
  },
  {
   "cell_type": "markdown",
   "metadata": {},
   "source": [
    "### Importing the data"
   ]
  },
  {
   "cell_type": "code",
   "execution_count": 3,
   "metadata": {},
   "outputs": [
    {
     "data": {
      "text/plain": [
       "(150, 5)"
      ]
     },
     "execution_count": 3,
     "metadata": {},
     "output_type": "execute_result"
    }
   ],
   "source": [
    "df = pd.read_csv('./iris.csv', index_col=0)\n",
    "\n",
    "df.shape"
   ]
  },
  {
   "cell_type": "code",
   "execution_count": 4,
   "metadata": {},
   "outputs": [
    {
     "data": {
      "text/html": [
       "<div>\n",
       "<style>\n",
       "    .dataframe thead tr:only-child th {\n",
       "        text-align: right;\n",
       "    }\n",
       "\n",
       "    .dataframe thead th {\n",
       "        text-align: left;\n",
       "    }\n",
       "\n",
       "    .dataframe tbody tr th {\n",
       "        vertical-align: top;\n",
       "    }\n",
       "</style>\n",
       "<table border=\"1\" class=\"dataframe\">\n",
       "  <thead>\n",
       "    <tr style=\"text-align: right;\">\n",
       "      <th></th>\n",
       "      <th>SepalLengthCm</th>\n",
       "      <th>SepalWidthCm</th>\n",
       "      <th>PetalLengthCm</th>\n",
       "      <th>PetalWidthCm</th>\n",
       "      <th>Species</th>\n",
       "    </tr>\n",
       "    <tr>\n",
       "      <th>Id</th>\n",
       "      <th></th>\n",
       "      <th></th>\n",
       "      <th></th>\n",
       "      <th></th>\n",
       "      <th></th>\n",
       "    </tr>\n",
       "  </thead>\n",
       "  <tbody>\n",
       "    <tr>\n",
       "      <th>1</th>\n",
       "      <td>5.1</td>\n",
       "      <td>3.5</td>\n",
       "      <td>1.4</td>\n",
       "      <td>0.2</td>\n",
       "      <td>Iris-setosa</td>\n",
       "    </tr>\n",
       "    <tr>\n",
       "      <th>2</th>\n",
       "      <td>4.9</td>\n",
       "      <td>3.0</td>\n",
       "      <td>1.4</td>\n",
       "      <td>0.2</td>\n",
       "      <td>Iris-setosa</td>\n",
       "    </tr>\n",
       "    <tr>\n",
       "      <th>3</th>\n",
       "      <td>4.7</td>\n",
       "      <td>3.2</td>\n",
       "      <td>1.3</td>\n",
       "      <td>0.2</td>\n",
       "      <td>Iris-setosa</td>\n",
       "    </tr>\n",
       "    <tr>\n",
       "      <th>4</th>\n",
       "      <td>4.6</td>\n",
       "      <td>3.1</td>\n",
       "      <td>1.5</td>\n",
       "      <td>0.2</td>\n",
       "      <td>Iris-setosa</td>\n",
       "    </tr>\n",
       "    <tr>\n",
       "      <th>5</th>\n",
       "      <td>5.0</td>\n",
       "      <td>3.6</td>\n",
       "      <td>1.4</td>\n",
       "      <td>0.2</td>\n",
       "      <td>Iris-setosa</td>\n",
       "    </tr>\n",
       "  </tbody>\n",
       "</table>\n",
       "</div>"
      ],
      "text/plain": [
       "    SepalLengthCm  SepalWidthCm  PetalLengthCm  PetalWidthCm      Species\n",
       "Id                                                                       \n",
       "1             5.1           3.5            1.4           0.2  Iris-setosa\n",
       "2             4.9           3.0            1.4           0.2  Iris-setosa\n",
       "3             4.7           3.2            1.3           0.2  Iris-setosa\n",
       "4             4.6           3.1            1.5           0.2  Iris-setosa\n",
       "5             5.0           3.6            1.4           0.2  Iris-setosa"
      ]
     },
     "execution_count": 4,
     "metadata": {},
     "output_type": "execute_result"
    }
   ],
   "source": [
    "df.head()"
   ]
  },
  {
   "cell_type": "markdown",
   "metadata": {},
   "source": [
    "# Preparing the data"
   ]
  },
  {
   "cell_type": "markdown",
   "metadata": {},
   "source": [
    "### Species classification\n",
    "\n",
    "- Iris-setosa => 1\n",
    "- Iris-versicolor => 2\n",
    "- Iris-virginica => 3"
   ]
  },
  {
   "cell_type": "code",
   "execution_count": 52,
   "metadata": {},
   "outputs": [],
   "source": [
    "def label(value):\n",
    "    _dict = {\n",
    "        1: 'Iris-Setosa',\n",
    "        2: 'Iris-Versicolor',\n",
    "        3: 'Iris-Virginica'\n",
    "    }\n",
    "    return _dict[value]"
   ]
  },
  {
   "cell_type": "code",
   "execution_count": 5,
   "metadata": {},
   "outputs": [
    {
     "data": {
      "text/html": [
       "<div>\n",
       "<style>\n",
       "    .dataframe thead tr:only-child th {\n",
       "        text-align: right;\n",
       "    }\n",
       "\n",
       "    .dataframe thead th {\n",
       "        text-align: left;\n",
       "    }\n",
       "\n",
       "    .dataframe tbody tr th {\n",
       "        vertical-align: top;\n",
       "    }\n",
       "</style>\n",
       "<table border=\"1\" class=\"dataframe\">\n",
       "  <thead>\n",
       "    <tr style=\"text-align: right;\">\n",
       "      <th></th>\n",
       "      <th>SepalLengthCm</th>\n",
       "      <th>SepalWidthCm</th>\n",
       "      <th>PetalLengthCm</th>\n",
       "      <th>PetalWidthCm</th>\n",
       "      <th>Species</th>\n",
       "    </tr>\n",
       "    <tr>\n",
       "      <th>Id</th>\n",
       "      <th></th>\n",
       "      <th></th>\n",
       "      <th></th>\n",
       "      <th></th>\n",
       "      <th></th>\n",
       "    </tr>\n",
       "  </thead>\n",
       "  <tbody>\n",
       "    <tr>\n",
       "      <th>1</th>\n",
       "      <td>5.1</td>\n",
       "      <td>3.5</td>\n",
       "      <td>1.4</td>\n",
       "      <td>0.2</td>\n",
       "      <td>1</td>\n",
       "    </tr>\n",
       "    <tr>\n",
       "      <th>2</th>\n",
       "      <td>4.9</td>\n",
       "      <td>3.0</td>\n",
       "      <td>1.4</td>\n",
       "      <td>0.2</td>\n",
       "      <td>1</td>\n",
       "    </tr>\n",
       "    <tr>\n",
       "      <th>3</th>\n",
       "      <td>4.7</td>\n",
       "      <td>3.2</td>\n",
       "      <td>1.3</td>\n",
       "      <td>0.2</td>\n",
       "      <td>1</td>\n",
       "    </tr>\n",
       "    <tr>\n",
       "      <th>4</th>\n",
       "      <td>4.6</td>\n",
       "      <td>3.1</td>\n",
       "      <td>1.5</td>\n",
       "      <td>0.2</td>\n",
       "      <td>1</td>\n",
       "    </tr>\n",
       "    <tr>\n",
       "      <th>5</th>\n",
       "      <td>5.0</td>\n",
       "      <td>3.6</td>\n",
       "      <td>1.4</td>\n",
       "      <td>0.2</td>\n",
       "      <td>1</td>\n",
       "    </tr>\n",
       "  </tbody>\n",
       "</table>\n",
       "</div>"
      ],
      "text/plain": [
       "    SepalLengthCm  SepalWidthCm  PetalLengthCm  PetalWidthCm Species\n",
       "Id                                                                  \n",
       "1             5.1           3.5            1.4           0.2       1\n",
       "2             4.9           3.0            1.4           0.2       1\n",
       "3             4.7           3.2            1.3           0.2       1\n",
       "4             4.6           3.1            1.5           0.2       1\n",
       "5             5.0           3.6            1.4           0.2       1"
      ]
     },
     "execution_count": 5,
     "metadata": {},
     "output_type": "execute_result"
    }
   ],
   "source": [
    "# change the labes for values\n",
    "df.loc[df.Species == 'Iris-setosa', 'Species'] = 1\n",
    "df.loc[df.Species == 'Iris-versicolor', 'Species'] = 2\n",
    "df.loc[df.Species == 'Iris-virginica', 'Species'] = 3\n",
    "\n",
    "\n",
    "df.head()"
   ]
  },
  {
   "cell_type": "code",
   "execution_count": 88,
   "metadata": {},
   "outputs": [],
   "source": [
    "train_values = df.sample(frac=0.6).astype(float)\n",
    "test_values = df.sample(frac=0.4).astype(float)\n",
    "\n",
    "#train data\n",
    "train_inputs = train_values.as_matrix(\n",
    "    columns=['SepalLengthCm', 'SepalWidthCm',\n",
    "    'PetalLengthCm', 'PetalWidthCm']).astype(float)\n",
    "\n",
    "train_predicts = train_values['Species'].values.astype(int)\n",
    "\n",
    "\n",
    "# test data\n",
    "test_inputs = test_values.as_matrix(\n",
    "    columns=['SepalLengthCm', 'SepalWidthCm',\n",
    "    'PetalLengthCm', 'PetalWidthCm']).astype(float)\n",
    "\n",
    "test_predicts = test_values['Species'].values.astype(int)\n"
   ]
  },
  {
   "cell_type": "code",
   "execution_count": 89,
   "metadata": {},
   "outputs": [
    {
     "name": "stdout",
     "output_type": "stream",
     "text": [
      "Total\n",
      "Iris-setosa: 50 33.33%\n",
      "Iris-versicolor: 50 33.33%\n",
      "Iris-virginica: 50 33.33%\n",
      "\n",
      "Train values\n",
      "Iris-setosa: 27 30.00%\n",
      "Iris-versicolor: 30 33.33%\n",
      "Iris-virginica: 33 36.67%\n",
      "\n",
      "Test values\n",
      "Iris-setosa: 18 30.00%\n",
      "Iris-versicolor: 23 38.33%\n",
      "Iris-virginica: 19 31.67%\n"
     ]
    }
   ],
   "source": [
    "# methos to show the ratio of the dataset\n",
    "\n",
    "def print_ratio(df, label):\n",
    "    \n",
    "    total_values = len(df.loc[df['Species']])\n",
    "\n",
    "    iris_setosa_total = len(df.loc[df['Species'] == 1])\n",
    "    iris_setosa_total_percent = iris_setosa_total / total_values  * 100\n",
    "\n",
    "    iris_versicolor_total = len(df.loc[df['Species'] == 2])\n",
    "    iris_versicolor_total_percent = iris_versicolor_total / total_values * 100\n",
    "\n",
    "    iris_virginica_total = len(df.loc[df['Species'] == 3])\n",
    "    iris_virginica_total_percent = iris_virginica_total / total_values * 100\n",
    "\n",
    "    print(label)\n",
    "    print('Iris-setosa: {0} {1:0.2f}%'.format(iris_setosa_total, iris_setosa_total_percent))\n",
    "    print('Iris-versicolor: {0} {1:0.2f}%'.format(iris_versicolor_total, iris_versicolor_total_percent))\n",
    "    print('Iris-virginica: {0} {1:0.2f}%'.format(iris_virginica_total, iris_virginica_total_percent))\n",
    "\n",
    "\n",
    "\n",
    "print_ratio(df, 'Total')\n",
    "print(\"\")\n",
    "print_ratio(train_values, 'Train values')\n",
    "print(\"\")\n",
    "print_ratio(test_values, 'Test values')\n",
    "\n"
   ]
  },
  {
   "cell_type": "markdown",
   "metadata": {},
   "source": [
    "### Training the model"
   ]
  },
  {
   "cell_type": "code",
   "execution_count": 90,
   "metadata": {},
   "outputs": [
    {
     "data": {
      "text/plain": [
       "GaussianNB(priors=None)"
      ]
     },
     "execution_count": 90,
     "metadata": {},
     "output_type": "execute_result"
    }
   ],
   "source": [
    "from sklearn.naive_bayes import GaussianNB\n",
    "\n",
    "model = GaussianNB()\n",
    "\n",
    "# aqui ta o pulo do gato\n",
    "model.fit(train_inputs, train_predicts)"
   ]
  },
  {
   "cell_type": "markdown",
   "metadata": {},
   "source": [
    "### Predict on train data"
   ]
  },
  {
   "cell_type": "code",
   "execution_count": 91,
   "metadata": {},
   "outputs": [
    {
     "name": "stdout",
     "output_type": "stream",
     "text": [
      "Accuracy 0.9556%\n"
     ]
    }
   ],
   "source": [
    "# metrics to accuracy\n",
    "from sklearn import metrics\n",
    "\n",
    "train_predicted_values = model.predict(train_inputs)\n",
    "\n",
    "accuracy = metrics.accuracy_score(train_predicts, train_predicted_values)\n",
    "print('Accuracy {0:0.4f}%'.format(accuracy))"
   ]
  },
  {
   "cell_type": "markdown",
   "metadata": {},
   "source": [
    "### Predict on test data"
   ]
  },
  {
   "cell_type": "code",
   "execution_count": 92,
   "metadata": {},
   "outputs": [
    {
     "name": "stdout",
     "output_type": "stream",
     "text": [
      "Accuracy 0.9667%\n"
     ]
    }
   ],
   "source": [
    "test_predicted_values = model.predict(test_inputs)\n",
    "\n",
    "accuracy = metrics.accuracy_score(test_predicts, test_predicted_values)\n",
    "print('Accuracy {0:0.4f}%'.format(accuracy))"
   ]
  },
  {
   "cell_type": "markdown",
   "metadata": {},
   "source": [
    "## Prediction"
   ]
  },
  {
   "cell_type": "code",
   "execution_count": 93,
   "metadata": {},
   "outputs": [
    {
     "name": "stdout",
     "output_type": "stream",
     "text": [
      "this flower is a Iris-Versicolor\n"
     ]
    }
   ],
   "source": [
    "predicted = model.predict([\n",
    "    [6.4, 3.2, 4.5, 1.5]\n",
    "])\n",
    "\n",
    "\n",
    "print('this flower is a {0}'.format(label(*predicted)))"
   ]
  },
  {
   "cell_type": "code",
   "execution_count": null,
   "metadata": {
    "collapsed": true
   },
   "outputs": [],
   "source": []
  }
 ],
 "metadata": {
  "kernelspec": {
   "display_name": "Python 3.6",
   "language": "python",
   "name": "python36"
  },
  "language_info": {
   "codemirror_mode": {
    "name": "ipython",
    "version": 3
   },
   "file_extension": ".py",
   "mimetype": "text/x-python",
   "name": "python",
   "nbconvert_exporter": "python",
   "pygments_lexer": "ipython3",
   "version": "3.6.2"
  }
 },
 "nbformat": 4,
 "nbformat_minor": 2
}
