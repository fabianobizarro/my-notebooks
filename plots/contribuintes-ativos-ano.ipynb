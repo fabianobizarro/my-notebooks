{
 "cells": [
  {
   "cell_type": "markdown",
   "metadata": {},
   "source": [
    "# Contribuintes empregados por Ano"
   ]
  },
  {
   "cell_type": "markdown",
   "metadata": {},
   "source": [
    "### Fonte dos dados\n",
    "\n",
    "Estatísticas de contribuintes empregados por UF de localização do estabelecimento e ano da competência da Guia de Recolhimento do Fundo de Garantia do Tempo de Serviço e Informações à Previdência Social (GFIP). Contribuintes empregados, com mais de um emprego, apresentam como remuneração a soma dos salários recebidos em cada vínculo.\n",
    "\n",
    "http://dados.gov.br/dataset/contribuintes-empregados-por-uf1"
   ]
  },
  {
   "cell_type": "code",
   "execution_count": 1,
   "metadata": {},
   "outputs": [],
   "source": [
    "import numpy as np\n",
    "import pandas as pd\n",
    "import matplotlib.pyplot as plt\n",
    "\n",
    "%matplotlib inline"
   ]
  },
  {
   "cell_type": "markdown",
   "metadata": {},
   "source": [
    "## Lendo o arquivo .csv"
   ]
  },
  {
   "cell_type": "code",
   "execution_count": 88,
   "metadata": {},
   "outputs": [
    {
     "data": {
      "text/plain": [
       "(561, 7)"
      ]
     },
     "execution_count": 88,
     "metadata": {},
     "output_type": "execute_result"
    }
   ],
   "source": [
    "df = pd.read_csv('./contrib-ativos-uf.csv',  encoding = \"ISO-8859-1\")\n",
    "\n",
    "df.shape"
   ]
  },
  {
   "cell_type": "code",
   "execution_count": 54,
   "metadata": {},
   "outputs": [
    {
     "data": {
      "text/html": [
       "<div>\n",
       "<style scoped>\n",
       "    .dataframe tbody tr th:only-of-type {\n",
       "        vertical-align: middle;\n",
       "    }\n",
       "\n",
       "    .dataframe tbody tr th {\n",
       "        vertical-align: top;\n",
       "    }\n",
       "\n",
       "    .dataframe thead th {\n",
       "        text-align: right;\n",
       "    }\n",
       "</style>\n",
       "<table border=\"1\" class=\"dataframe\">\n",
       "  <thead>\n",
       "    <tr style=\"text-align: right;\">\n",
       "      <th></th>\n",
       "      <th>Ano</th>\n",
       "      <th>Unidade da Federação</th>\n",
       "      <th>Qtde Contribuintes Empregados</th>\n",
       "      <th>Quantidade de Vínculos</th>\n",
       "      <th>Vl Remuneração (R$)</th>\n",
       "      <th>Número Médio Mensal Cont Emprg</th>\n",
       "      <th>Estatísticas Cont Empregado</th>\n",
       "    </tr>\n",
       "  </thead>\n",
       "  <tbody>\n",
       "    <tr>\n",
       "      <th>0</th>\n",
       "      <td>1996</td>\n",
       "      <td>Rondônia</td>\n",
       "      <td>70308</td>\n",
       "      <td>76866.0</td>\n",
       "      <td>233763021,25</td>\n",
       "      <td>50075.0</td>\n",
       "      <td>Qtde Contribuintes Empregados</td>\n",
       "    </tr>\n",
       "    <tr>\n",
       "      <th>1</th>\n",
       "      <td>1996</td>\n",
       "      <td>Acre</td>\n",
       "      <td>27384</td>\n",
       "      <td>30142.0</td>\n",
       "      <td>105674804,27</td>\n",
       "      <td>21291.0</td>\n",
       "      <td>Qtde Contribuintes Empregados</td>\n",
       "    </tr>\n",
       "    <tr>\n",
       "      <th>2</th>\n",
       "      <td>1996</td>\n",
       "      <td>Amazonas</td>\n",
       "      <td>154924</td>\n",
       "      <td>176036.0</td>\n",
       "      <td>809650218,26</td>\n",
       "      <td>111825.0</td>\n",
       "      <td>Qtde Contribuintes Empregados</td>\n",
       "    </tr>\n",
       "    <tr>\n",
       "      <th>3</th>\n",
       "      <td>1996</td>\n",
       "      <td>Roraima</td>\n",
       "      <td>12184</td>\n",
       "      <td>13390.0</td>\n",
       "      <td>44587685,52</td>\n",
       "      <td>8210.0</td>\n",
       "      <td>Qtde Contribuintes Empregados</td>\n",
       "    </tr>\n",
       "    <tr>\n",
       "      <th>4</th>\n",
       "      <td>1996</td>\n",
       "      <td>Pará</td>\n",
       "      <td>290465</td>\n",
       "      <td>319896.0</td>\n",
       "      <td>1154186297,36</td>\n",
       "      <td>218728.0</td>\n",
       "      <td>Qtde Contribuintes Empregados</td>\n",
       "    </tr>\n",
       "  </tbody>\n",
       "</table>\n",
       "</div>"
      ],
      "text/plain": [
       "    Ano Unidade da Federação Qtde Contribuintes Empregados  \\\n",
       "0  1996             Rondônia                         70308   \n",
       "1  1996                 Acre                         27384   \n",
       "2  1996             Amazonas                        154924   \n",
       "3  1996              Roraima                         12184   \n",
       "4  1996                 Pará                        290465   \n",
       "\n",
       "   Quantidade de Vínculos Vl Remuneração (R$)  Número Médio Mensal Cont Emprg  \\\n",
       "0                 76866.0        233763021,25                         50075.0   \n",
       "1                 30142.0        105674804,27                         21291.0   \n",
       "2                176036.0        809650218,26                        111825.0   \n",
       "3                 13390.0         44587685,52                          8210.0   \n",
       "4                319896.0       1154186297,36                        218728.0   \n",
       "\n",
       "     Estatísticas Cont Empregado  \n",
       "0  Qtde Contribuintes Empregados  \n",
       "1  Qtde Contribuintes Empregados  \n",
       "2  Qtde Contribuintes Empregados  \n",
       "3  Qtde Contribuintes Empregados  \n",
       "4  Qtde Contribuintes Empregados  "
      ]
     },
     "execution_count": 54,
     "metadata": {},
     "output_type": "execute_result"
    }
   ],
   "source": [
    "df.head(5)"
   ]
  },
  {
   "cell_type": "code",
   "execution_count": 94,
   "metadata": {},
   "outputs": [
    {
     "data": {
      "text/html": [
       "<div>\n",
       "<style scoped>\n",
       "    .dataframe tbody tr th:only-of-type {\n",
       "        vertical-align: middle;\n",
       "    }\n",
       "\n",
       "    .dataframe tbody tr th {\n",
       "        vertical-align: top;\n",
       "    }\n",
       "\n",
       "    .dataframe thead th {\n",
       "        text-align: right;\n",
       "    }\n",
       "</style>\n",
       "<table border=\"1\" class=\"dataframe\">\n",
       "  <thead>\n",
       "    <tr style=\"text-align: right;\">\n",
       "      <th></th>\n",
       "      <th>Ano</th>\n",
       "      <th>Unidade da Federação</th>\n",
       "      <th>Qtde Contribuintes Empregados</th>\n",
       "      <th>Quantidade de Vínculos</th>\n",
       "      <th>Vl Remuneração (R$)</th>\n",
       "      <th>Número Médio Mensal Cont Emprg</th>\n",
       "      <th>Estatísticas Cont Empregado</th>\n",
       "    </tr>\n",
       "  </thead>\n",
       "  <tbody>\n",
       "    <tr>\n",
       "      <th>556</th>\n",
       "      <td>2015</td>\n",
       "      <td>Mato Grosso</td>\n",
       "      <td>1013101</td>\n",
       "      <td>1278408.0</td>\n",
       "      <td>17565764065,75</td>\n",
       "      <td>729200.0</td>\n",
       "      <td>Qtde Contribuintes Empregados</td>\n",
       "    </tr>\n",
       "    <tr>\n",
       "      <th>557</th>\n",
       "      <td>2015</td>\n",
       "      <td>Goiás</td>\n",
       "      <td>1781567</td>\n",
       "      <td>2158680.0</td>\n",
       "      <td>30447184180,94</td>\n",
       "      <td>1298755.0</td>\n",
       "      <td>Qtde Contribuintes Empregados</td>\n",
       "    </tr>\n",
       "    <tr>\n",
       "      <th>558</th>\n",
       "      <td>2015</td>\n",
       "      <td>Distrito Federal</td>\n",
       "      <td>1061546</td>\n",
       "      <td>1275680.0</td>\n",
       "      <td>30258958376,50</td>\n",
       "      <td>808436.0</td>\n",
       "      <td>Qtde Contribuintes Empregados</td>\n",
       "    </tr>\n",
       "    <tr>\n",
       "      <th>559</th>\n",
       "      <td>2015</td>\n",
       "      <td>Ignorado</td>\n",
       "      <td>97673</td>\n",
       "      <td>118152.0</td>\n",
       "      <td>1566405923,39</td>\n",
       "      <td>71100.0</td>\n",
       "      <td>Qtde Contribuintes Empregados</td>\n",
       "    </tr>\n",
       "    <tr>\n",
       "      <th>560</th>\n",
       "      <td>-</td>\n",
       "      <td>-</td>\n",
       "      <td>-</td>\n",
       "      <td>NaN</td>\n",
       "      <td>NaN</td>\n",
       "      <td>NaN</td>\n",
       "      <td>NaN</td>\n",
       "    </tr>\n",
       "  </tbody>\n",
       "</table>\n",
       "</div>"
      ],
      "text/plain": [
       "      Ano Unidade da Federação Qtde Contribuintes Empregados  \\\n",
       "556  2015          Mato Grosso                       1013101   \n",
       "557  2015                Goiás                       1781567   \n",
       "558  2015     Distrito Federal                       1061546   \n",
       "559  2015             Ignorado                         97673   \n",
       "560     -                    -                             -   \n",
       "\n",
       "     Quantidade de Vínculos Vl Remuneração (R$)  \\\n",
       "556               1278408.0      17565764065,75   \n",
       "557               2158680.0      30447184180,94   \n",
       "558               1275680.0      30258958376,50   \n",
       "559                118152.0       1566405923,39   \n",
       "560                     NaN                 NaN   \n",
       "\n",
       "     Número Médio Mensal Cont Emprg    Estatísticas Cont Empregado  \n",
       "556                        729200.0  Qtde Contribuintes Empregados  \n",
       "557                       1298755.0  Qtde Contribuintes Empregados  \n",
       "558                        808436.0  Qtde Contribuintes Empregados  \n",
       "559                         71100.0  Qtde Contribuintes Empregados  \n",
       "560                             NaN                            NaN  "
      ]
     },
     "execution_count": 94,
     "metadata": {},
     "output_type": "execute_result"
    }
   ],
   "source": [
    "df.tail(5)"
   ]
  },
  {
   "cell_type": "markdown",
   "metadata": {},
   "source": [
    "Remover as linhas que possuem o valor do ano como '-'"
   ]
  },
  {
   "cell_type": "code",
   "execution_count": 105,
   "metadata": {},
   "outputs": [
    {
     "name": "stdout",
     "output_type": "stream",
     "text": [
      "(560, 7)\n"
     ]
    }
   ],
   "source": [
    "df = df.drop(df[df['Ano'] == '-'].index)\n",
    "\n",
    "print(df.shape)"
   ]
  },
  {
   "cell_type": "markdown",
   "metadata": {},
   "source": [
    "### (Eixo X) - Lista dos anos"
   ]
  },
  {
   "cell_type": "code",
   "execution_count": 144,
   "metadata": {},
   "outputs": [],
   "source": [
    "#anos = np.array(list(filter(lambda n: n.isdigit(), df['Ano'].unique())))\n",
    "anos = np.array(df['Ano'])\n",
    "anos = np.unique(anos)\n",
    "anos = anos.astype(int)"
   ]
  },
  {
   "cell_type": "markdown",
   "metadata": {},
   "source": [
    "### (Eixo Y) - Quantidade de contribuintes por ano"
   ]
  },
  {
   "cell_type": "code",
   "execution_count": 146,
   "metadata": {},
   "outputs": [],
   "source": [
    "df_index = df.columns[2]\n",
    "contribuintes = []\n",
    "\n",
    "for ano in anos:\n",
    "    valores = [int(df.loc[l][df_index]) \n",
    "                 for l in range(0, df.shape[0]) \n",
    "                 if int(df.loc[l]['Ano']) == ano]\n",
    "    \n",
    "    contribuintes.append(np.sum(valores))\n",
    "\n",
    "    "
   ]
  },
  {
   "cell_type": "markdown",
   "metadata": {},
   "source": [
    "## Plotando o gráfico"
   ]
  },
  {
   "cell_type": "code",
   "execution_count": 166,
   "metadata": {
    "scrolled": false
   },
   "outputs": [
    {
     "data": {
      "image/png": "[encoded data removed]",
      "text/plain": [
       "<matplotlib.figure.Figure at 0x7f88f96df358>"
      ]
     },
     "metadata": {},
     "output_type": "display_data"
    }
   ],
   "source": [
    "fig, ax = plt.subplots()\n",
    "\n",
    "ax.plot(anos, contribuintes)\n",
    "\n",
    "ax.set(xlabel='Ano', ylabel='Quantidade (milhões)',\n",
    "       title='Contribuintes empregados por ano')\n",
    "\n",
    "ax.grid()\n",
    "\n",
    "fig.set_size_inches(18.5, 10.5)\n",
    "plt.show()"
   ]
  },
  {
   "cell_type": "code",
   "execution_count": null,
   "metadata": {},
   "outputs": [],
   "source": []
  }
 ],
 "metadata": {
  "kernelspec": {
   "display_name": "Python 3",
   "language": "python",
   "name": "python3"
  },
  "language_info": {
   "codemirror_mode": {
    "name": "ipython",
    "version": 3
   },
   "file_extension": ".py",
   "mimetype": "text/x-python",
   "name": "python",
   "nbconvert_exporter": "python",
   "pygments_lexer": "ipython3",
   "version": "3.6.3"
  }
 },
 "nbformat": 4,
 "nbformat_minor": 2
}
